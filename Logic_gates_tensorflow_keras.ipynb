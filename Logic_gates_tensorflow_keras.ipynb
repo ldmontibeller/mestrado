{
  "nbformat": 4,
  "nbformat_minor": 0,
  "metadata": {
    "colab": {
      "provenance": [],
      "authorship_tag": "ABX9TyPh6MhT+XVxn98gvGFeJ6GK",
      "include_colab_link": true
    },
    "kernelspec": {
      "name": "python3",
      "display_name": "Python 3"
    },
    "language_info": {
      "name": "python"
    }
  },
  "cells": [
    {
      "cell_type": "markdown",
      "metadata": {
        "id": "view-in-github",
        "colab_type": "text"
      },
      "source": [
        "<a href=\"https://colab.research.google.com/github/ldmontibeller/mestrado/blob/main/Logic_gates_tensorflow_keras.ipynb\" target=\"_parent\"><img src=\"https://colab.research.google.com/assets/colab-badge.svg\" alt=\"Open In Colab\"/></a>"
      ]
    },
    {
      "cell_type": "markdown",
      "source": [
        "# Portas lógicas com Redes Neurais\n",
        "Esse caderno visa o entendimento de soluções de referência como TensorFlow e Keras aplicando em simples exemplos de portas lógicas."
      ],
      "metadata": {
        "id": "Pe1sxEromWC0"
      }
    },
    {
      "cell_type": "markdown",
      "source": [
        "##Introdução"
      ],
      "metadata": {
        "id": "B3s_EA9VETel"
      }
    },
    {
      "cell_type": "markdown",
      "source": [
        "### Importação das bibliotecas\n",
        "Keras é uma biblioteca de alto nível para TensorFlow, que já vem dentro do mesmo."
      ],
      "metadata": {
        "id": "Q-3yv-KjH1YL"
      }
    },
    {
      "cell_type": "code",
      "execution_count": null,
      "metadata": {
        "id": "i_gqL04ncO8y"
      },
      "outputs": [],
      "source": [
        "import numpy as np\n",
        "import tensorflow as tf"
      ]
    },
    {
      "cell_type": "markdown",
      "source": [
        "### Montagem do drive"
      ],
      "metadata": {
        "id": "ycMsniZwlcng"
      }
    },
    {
      "cell_type": "code",
      "source": [
        "from google.colab import drive\n",
        "drive.mount('/content/drive')"
      ],
      "metadata": {
        "id": "tWsbYiHbcoyA",
        "colab": {
          "base_uri": "https://localhost:8080/"
        },
        "outputId": "8a69c193-064a-4191-8897-c633c1f60758"
      },
      "execution_count": null,
      "outputs": [
        {
          "output_type": "stream",
          "name": "stdout",
          "text": [
            "Mounted at /content/drive\n"
          ]
        }
      ]
    },
    {
      "cell_type": "markdown",
      "source": [
        "## Porta lógica AND"
      ],
      "metadata": {
        "id": "XBEmDc0THVIf"
      }
    },
    {
      "cell_type": "markdown",
      "source": [
        "### Preparando um dataset de um arquivo txt"
      ],
      "metadata": {
        "id": "UDZcwBiknN72"
      }
    },
    {
      "cell_type": "code",
      "source": [
        "data = np.genfromtxt('/content/drive/MyDrive/RC18EE---Intro-to-Deep-Learning-master/L03_perceptron/code/data/perceptron_and.txt', delimiter= '\\t')\n",
        "data"
      ],
      "metadata": {
        "id": "W9KEMIJDnK1w",
        "colab": {
          "base_uri": "https://localhost:8080/"
        },
        "outputId": "31e3bfb2-319d-4b85-982c-24470f544175"
      },
      "execution_count": null,
      "outputs": [
        {
          "output_type": "execute_result",
          "data": {
            "text/plain": [
              "array([[0., 0., 0.],\n",
              "       [0., 1., 0.],\n",
              "       [1., 0., 0.],\n",
              "       [1., 1., 1.]])"
            ]
          },
          "metadata": {},
          "execution_count": 114
        }
      ]
    },
    {
      "cell_type": "markdown",
      "source": [
        "### Sintaxe de arrays em numpy"
      ],
      "metadata": {
        "id": "gBqHsOmvoiw-"
      }
    },
    {
      "cell_type": "markdown",
      "source": [
        "* : → Seleciona todas as linhas.\n",
        "* :2 → Seleciona as duas primeiras colunas (índices 0 e 1).\n",
        "* 2 → Seleciona a terceira coluna (índice 2)."
      ],
      "metadata": {
        "id": "3m14qVL6rYjF"
      }
    },
    {
      "cell_type": "code",
      "source": [
        "X, y = data[:,:2], data[:,2]\n",
        "X, y"
      ],
      "metadata": {
        "id": "HPOUlexFptN6",
        "colab": {
          "base_uri": "https://localhost:8080/"
        },
        "collapsed": true,
        "outputId": "87674f62-e8e2-4c69-a5f7-356e83562185"
      },
      "execution_count": null,
      "outputs": [
        {
          "output_type": "execute_result",
          "data": {
            "text/plain": [
              "(array([[0., 0.],\n",
              "        [0., 1.],\n",
              "        [1., 0.],\n",
              "        [1., 1.]]),\n",
              " array([0., 0., 0., 1.]))"
            ]
          },
          "metadata": {},
          "execution_count": 115
        }
      ]
    },
    {
      "cell_type": "markdown",
      "source": [
        "### Embaralhar dados\n",
        "Embaralhar dados torna o aprendizado do perceptron mais eficiente. [Explicação aqui](https://https://datascience.stackexchange.com/questions/24511/why-should-the-data-be-shuffled-for-machine-learning-tasks)"
      ],
      "metadata": {
        "id": "CeF5qcOznxkH"
      }
    },
    {
      "cell_type": "code",
      "source": [
        "def shuffle_in_unison(a, b):\n",
        "  \"\"\"Shuffles two arrays in unison using the same permutation.\n",
        "\n",
        "  Args:\n",
        "    a: The first numpy array.\n",
        "    b: The second numpy array.\n",
        "\n",
        "  Returns:\n",
        "    A tuple containing the shuffled arrays.\n",
        "  \"\"\"\n",
        "  assert len(a) == len(b)  # Make sure arrays have the same length\n",
        "  p = np.random.permutation(len(a))  # Create a permutation of indices\n",
        "  return a[p], b[p]  # Apply the permutation to both arrays\n",
        "\n",
        "X, y = shuffle_in_unison(X, y)\n",
        "X, y"
      ],
      "metadata": {
        "colab": {
          "base_uri": "https://localhost:8080/"
        },
        "id": "vgbTiA71prJz",
        "outputId": "80f4f533-8b9f-4fe6-9521-62d0d19b4bd2"
      },
      "execution_count": null,
      "outputs": [
        {
          "output_type": "execute_result",
          "data": {
            "text/plain": [
              "(array([[1., 1.],\n",
              "        [0., 1.],\n",
              "        [0., 0.],\n",
              "        [1., 0.]]),\n",
              " array([1., 0., 0., 0.]))"
            ]
          },
          "metadata": {},
          "execution_count": 116
        }
      ]
    },
    {
      "cell_type": "markdown",
      "source": [
        "### Normalização e separação de dados para validação cruzada\n",
        "Normalmente um conjunto de dados precisa ser normalizado e ter uma parte sua separada para utilizar um método de validação cruzada. A normalização faz com que os pesos sejam menores e mais fáceis de calcular, mais sobre [aqui](https://www.codecademy.com/article/normalization). Devido a natureza introdutória deste caderno não iremos abordar validação cruzada."
      ],
      "metadata": {
        "id": "WIipe0ZOEJDH"
      }
    },
    {
      "cell_type": "code",
      "source": [
        "from sklearn.preprocessing import StandardScaler\n",
        "\n",
        "scaler = StandardScaler()\n",
        "scaler.fit(X)\n",
        "\n",
        "X = scaler.transform(X)\n",
        "\n",
        "#A média precisa se aproximar de zero e o desvio padrão de 1\n",
        "\n",
        "print('X mean', np.mean(X))\n",
        "print('X standard deviation', np.std(X))\n",
        "\n",
        "X"
      ],
      "metadata": {
        "colab": {
          "base_uri": "https://localhost:8080/"
        },
        "id": "vBqzmGFdr41Q",
        "outputId": "3517e58e-ea77-41bf-a0fe-530d09b55740"
      },
      "execution_count": null,
      "outputs": [
        {
          "output_type": "stream",
          "name": "stdout",
          "text": [
            "X mean 0.0\n",
            "X standard deviation 1.0\n"
          ]
        },
        {
          "output_type": "execute_result",
          "data": {
            "text/plain": [
              "array([[ 1.,  1.],\n",
              "       [-1.,  1.],\n",
              "       [-1., -1.],\n",
              "       [ 1., -1.]])"
            ]
          },
          "metadata": {},
          "execution_count": 122
        }
      ]
    },
    {
      "cell_type": "markdown",
      "source": [
        "### Criando um modelo para rede neural"
      ],
      "metadata": {
        "id": "uiKzyOrX5uXB"
      }
    },
    {
      "cell_type": "code",
      "source": [
        "#Formato de entrada da rede\n",
        "X_input = tf.keras.Input(shape=(X.shape[1],))\n",
        "\n",
        "#Formato da única camada de saída\n",
        "y_pred= tf.keras.layers.Dense(units=1, activation='sigmoid', kernel_initializer=\"zeros\", use_bias='yes')(X_input)\n",
        "\n",
        "#Cirando o modelo com os formatos de entrada e saída\n",
        "model = tf.keras.Model(inputs=X_input, outputs=y_pred)\n",
        "\n",
        "model.compile(loss= 'binary_crossentropy', metrics=['accuracy'], optimizer=tf.keras.optimizers.SGD(learning_rate=1.0)) #Tente mudar os valores de taxa de aprendizagem para ver o que ocorre, padrão é 0.05\n",
        "\n",
        "model.summary()\n"
      ],
      "metadata": {
        "colab": {
          "base_uri": "https://localhost:8080/",
          "height": 193
        },
        "id": "HgR8oD2z21SJ",
        "outputId": "06a83fe6-c3be-49d3-f1e9-1d1e6ce74ea6"
      },
      "execution_count": null,
      "outputs": [
        {
          "output_type": "display_data",
          "data": {
            "text/plain": [
              "\u001b[1mModel: \"functional_45\"\u001b[0m\n"
            ],
            "text/html": [
              "<pre style=\"white-space:pre;overflow-x:auto;line-height:normal;font-family:Menlo,'DejaVu Sans Mono',consolas,'Courier New',monospace\"><span style=\"font-weight: bold\">Model: \"functional_45\"</span>\n",
              "</pre>\n"
            ]
          },
          "metadata": {}
        },
        {
          "output_type": "display_data",
          "data": {
            "text/plain": [
              "┏━━━━━━━━━━━━━━━━━━━━━━━━━━━━━━━━━━━━━━┳━━━━━━━━━━━━━━━━━━━━━━━━━━━━━┳━━━━━━━━━━━━━━━━━┓\n",
              "┃\u001b[1m \u001b[0m\u001b[1mLayer (type)                        \u001b[0m\u001b[1m \u001b[0m┃\u001b[1m \u001b[0m\u001b[1mOutput Shape               \u001b[0m\u001b[1m \u001b[0m┃\u001b[1m \u001b[0m\u001b[1m        Param #\u001b[0m\u001b[1m \u001b[0m┃\n",
              "┡━━━━━━━━━━━━━━━━━━━━━━━━━━━━━━━━━━━━━━╇━━━━━━━━━━━━━━━━━━━━━━━━━━━━━╇━━━━━━━━━━━━━━━━━┩\n",
              "│ input_layer_49 (\u001b[38;5;33mInputLayer\u001b[0m)          │ (\u001b[38;5;45mNone\u001b[0m, \u001b[38;5;34m2\u001b[0m)                   │               \u001b[38;5;34m0\u001b[0m │\n",
              "├──────────────────────────────────────┼─────────────────────────────┼─────────────────┤\n",
              "│ dense_46 (\u001b[38;5;33mDense\u001b[0m)                     │ (\u001b[38;5;45mNone\u001b[0m, \u001b[38;5;34m1\u001b[0m)                   │               \u001b[38;5;34m3\u001b[0m │\n",
              "└──────────────────────────────────────┴─────────────────────────────┴─────────────────┘\n"
            ],
            "text/html": [
              "<pre style=\"white-space:pre;overflow-x:auto;line-height:normal;font-family:Menlo,'DejaVu Sans Mono',consolas,'Courier New',monospace\">┏━━━━━━━━━━━━━━━━━━━━━━━━━━━━━━━━━━━━━━┳━━━━━━━━━━━━━━━━━━━━━━━━━━━━━┳━━━━━━━━━━━━━━━━━┓\n",
              "┃<span style=\"font-weight: bold\"> Layer (type)                         </span>┃<span style=\"font-weight: bold\"> Output Shape                </span>┃<span style=\"font-weight: bold\">         Param # </span>┃\n",
              "┡━━━━━━━━━━━━━━━━━━━━━━━━━━━━━━━━━━━━━━╇━━━━━━━━━━━━━━━━━━━━━━━━━━━━━╇━━━━━━━━━━━━━━━━━┩\n",
              "│ input_layer_49 (<span style=\"color: #0087ff; text-decoration-color: #0087ff\">InputLayer</span>)          │ (<span style=\"color: #00d7ff; text-decoration-color: #00d7ff\">None</span>, <span style=\"color: #00af00; text-decoration-color: #00af00\">2</span>)                   │               <span style=\"color: #00af00; text-decoration-color: #00af00\">0</span> │\n",
              "├──────────────────────────────────────┼─────────────────────────────┼─────────────────┤\n",
              "│ dense_46 (<span style=\"color: #0087ff; text-decoration-color: #0087ff\">Dense</span>)                     │ (<span style=\"color: #00d7ff; text-decoration-color: #00d7ff\">None</span>, <span style=\"color: #00af00; text-decoration-color: #00af00\">1</span>)                   │               <span style=\"color: #00af00; text-decoration-color: #00af00\">3</span> │\n",
              "└──────────────────────────────────────┴─────────────────────────────┴─────────────────┘\n",
              "</pre>\n"
            ]
          },
          "metadata": {}
        },
        {
          "output_type": "display_data",
          "data": {
            "text/plain": [
              "\u001b[1m Total params: \u001b[0m\u001b[38;5;34m3\u001b[0m (12.00 B)\n"
            ],
            "text/html": [
              "<pre style=\"white-space:pre;overflow-x:auto;line-height:normal;font-family:Menlo,'DejaVu Sans Mono',consolas,'Courier New',monospace\"><span style=\"font-weight: bold\"> Total params: </span><span style=\"color: #00af00; text-decoration-color: #00af00\">3</span> (12.00 B)\n",
              "</pre>\n"
            ]
          },
          "metadata": {}
        },
        {
          "output_type": "display_data",
          "data": {
            "text/plain": [
              "\u001b[1m Trainable params: \u001b[0m\u001b[38;5;34m3\u001b[0m (12.00 B)\n"
            ],
            "text/html": [
              "<pre style=\"white-space:pre;overflow-x:auto;line-height:normal;font-family:Menlo,'DejaVu Sans Mono',consolas,'Courier New',monospace\"><span style=\"font-weight: bold\"> Trainable params: </span><span style=\"color: #00af00; text-decoration-color: #00af00\">3</span> (12.00 B)\n",
              "</pre>\n"
            ]
          },
          "metadata": {}
        },
        {
          "output_type": "display_data",
          "data": {
            "text/plain": [
              "\u001b[1m Non-trainable params: \u001b[0m\u001b[38;5;34m0\u001b[0m (0.00 B)\n"
            ],
            "text/html": [
              "<pre style=\"white-space:pre;overflow-x:auto;line-height:normal;font-family:Menlo,'DejaVu Sans Mono',consolas,'Courier New',monospace\"><span style=\"font-weight: bold\"> Non-trainable params: </span><span style=\"color: #00af00; text-decoration-color: #00af00\">0</span> (0.00 B)\n",
              "</pre>\n"
            ]
          },
          "metadata": {}
        }
      ]
    },
    {
      "cell_type": "code",
      "source": [
        "model.fit(X, y, epochs=5, batch_size=1, verbose=0)"
      ],
      "metadata": {
        "colab": {
          "base_uri": "https://localhost:8080/"
        },
        "id": "TOIIKDb6Cfu8",
        "outputId": "af02d5fb-aadc-4e2a-fca5-3d318c2dfba5"
      },
      "execution_count": null,
      "outputs": [
        {
          "output_type": "execute_result",
          "data": {
            "text/plain": [
              "<keras.src.callbacks.history.History at 0x7e247b030250>"
            ]
          },
          "metadata": {},
          "execution_count": 184
        }
      ]
    },
    {
      "cell_type": "code",
      "source": [
        "#Quanto mais perto de 1 mais próximo do real\n",
        "y_output = model.predict(np.array([[0,0],[0,1],[1,0],[1,1]]))\n",
        "y_output"
      ],
      "metadata": {
        "colab": {
          "base_uri": "https://localhost:8080/"
        },
        "id": "LRcCizBQUbkA",
        "outputId": "8f300ee8-bad8-4523-8c90-240d1a2076cb"
      },
      "execution_count": null,
      "outputs": [
        {
          "output_type": "stream",
          "name": "stdout",
          "text": [
            "\u001b[1m1/1\u001b[0m \u001b[32m━━━━━━━━━━━━━━━━━━━━\u001b[0m\u001b[37m\u001b[0m \u001b[1m0s\u001b[0m 79ms/step\n"
          ]
        },
        {
          "output_type": "execute_result",
          "data": {
            "text/plain": [
              "array([[0.12719068],\n",
              "       [0.4943164 ],\n",
              "       [0.49188322],\n",
              "       [0.8665536 ]], dtype=float32)"
            ]
          },
          "metadata": {},
          "execution_count": 185
        }
      ]
    },
    {
      "cell_type": "markdown",
      "source": [
        "# Dúvidas\n",
        "1. Normalizar melhora o resultado, por que? Faz com que os pesos sejam menores e mais fáceis de calcular.\n",
        "2. Mudar ativação para linear, piora muito. Por que? Porque o regressor você quer encontrar um valor predito e não um rótulo, logo não tem um condicional e por isso que a ativação linear é uma identidade, um filtro passa-tudo.\n",
        "3. Rodar por mais épocas melhora muito o classificador, mas por que se no exemplo do perceptron feito a mão precisamos de somente 5 épocas? É porque o perceptron feito a mão conseguimos modelar uma não linearidade, a função de ativação de um degrau binário, já para ser computável por diferenciação a ativação sigmoide é a mais adequada mas ela precisa de mais gerações para se aproximar de um degrau binário. A taxa de aprendizagem também apresenta um papel fundamental, quanto maior, menos épocas para convergir, no entanto maior o risco de cair em um mínimo local (não é o nosso caso pois o conjunto de dados e características é muito pequeno), outro risco também é se isntabilizar e não convergir. Mais sobre o learning rate [aqui](https://www.jeremyjordan.me/nn-learning-rate/)\n"
      ],
      "metadata": {
        "id": "UJnjx9UVvyLH"
      }
    },
    {
      "cell_type": "markdown",
      "source": [
        "# Anotações\n",
        "\n",
        "* Classificador para categorizar de 0 a 1 (ou nos rótulos disponíveis)\n",
        "* Regressor linear que classificar de 0 a Infinito, \"estou medindo o quanto eu erro\"\n",
        "* Regressão logística (é um classificador) otimiza os casos próximos da reta de decisão (casos duvidoso) e não se importa para dados muito distantes da reta."
      ],
      "metadata": {
        "id": "Rd3SIPDkxS2x"
      }
    },
    {
      "cell_type": "code",
      "source": [],
      "metadata": {
        "id": "f3Px9sbvxgak"
      },
      "execution_count": null,
      "outputs": []
    }
  ]
}